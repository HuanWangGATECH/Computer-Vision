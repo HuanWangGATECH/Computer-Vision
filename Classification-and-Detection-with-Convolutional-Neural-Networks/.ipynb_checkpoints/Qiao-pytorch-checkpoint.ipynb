{
 "cells": [
  {
   "cell_type": "code",
   "execution_count": 6,
   "metadata": {},
   "outputs": [],
   "source": [
    "import numpy as np\n",
    "import torch\n",
    "import torch.nn as nn\n",
    "from torch.nn import init\n",
    "from torchvision import models\n",
    "from torch.autograd import Variable\n",
    "from torch.nn import functional as F\n",
    "import os\n",
    "import h5py\n",
    "import math\n",
    "import matplotlib.pyplot as plt\n",
    "import seaborn as sns\n",
    "\n",
    "%matplotlib inline"
   ]
  },
  {
   "cell_type": "code",
   "execution_count": 7,
   "metadata": {},
   "outputs": [],
   "source": [
    "save_to_file_dir = './qiao_logs/saved_logs'"
   ]
  },
  {
   "cell_type": "code",
   "execution_count": null,
   "metadata": {},
   "outputs": [],
   "source": [
    "h5f = h5py.File('saved_gray.h5', 'r')\n",
    "\n",
    "X_train = h5f['X_train'][:]\n",
    "y_train = h5f['y_train'][:]\n",
    "X_valid = h5f['X_valid'][:]\n",
    "y_valid = h5f['y_valid'][:]\n",
    "X_test = h5f['X_test'][:]\n",
    "y_test = h5f['y_test'][:]\n",
    "\n",
    "h5f.close()\n",
    "\n",
    "print(X_train.shape, y_train.shape)\n",
    "print(X_valid.shape, y_valid.shape)\n",
    "print(X_test.shape, y_test.shape)"
   ]
  },
  {
   "cell_type": "code",
   "execution_count": null,
   "metadata": {},
   "outputs": [],
   "source": [
    "torch.cuda.is_available()"
   ]
  },
  {
   "cell_type": "code",
   "execution_count": null,
   "metadata": {},
   "outputs": [],
   "source": [
    "def show_img(img):\n",
    "    fig,ax = plt.subplots()\n",
    "    if img.shape == (32,32,3):\n",
    "        ax.imshow(img)\n",
    "    else:\n",
    "        ax.imshow(img[:,:,0])"
   ]
  },
  {
   "cell_type": "code",
   "execution_count": 13,
   "metadata": {},
   "outputs": [],
   "source": [
    "class cnn(nn.Module):\n",
    "\n",
    "    def __init__(self):\n",
    "        super(cnn, self).__init__()\n",
    "        self.layer1 = torch.nn.Sequential(\n",
    "            torch.nn.Conv2d(1, 8, kernel_size=1, stride=1, padding=1),\n",
    "            torch.nn.ReLU())\n",
    "        self.layer2 = torch.nn.Sequential(\n",
    "            torch.nn.Conv2d(8, 16, kernel_size=1, stride=1, padding=1),\n",
    "            torch.nn.ReLU())\n",
    "        \n",
    "        self.layer3 = torch.nn.Sequential(\n",
    "            torch.nn.Conv2d(16, 32, kernel_size=1, stride=1, padding=1),\n",
    "            torch.nn.ReLU(),\n",
    "            torch.nn.MaxPool2d(kernel_size=4, stride=2, padding=1))\n",
    "        \n",
    "        self.layer4 = torch.nn.Sequential(\n",
    "            torch.nn.Conv2d(32, 16, kernel_size=1, stride=1, padding=1),\n",
    "            torch.nn.ReLU(),\n",
    "            torch.nn.MaxPool2d(kernel_size=4, stride=2, padding=1))\n",
    "        \n",
    "        self.layer5 = torch.nn.Sequential(\n",
    "            torch.nn.Conv2d(16, 8, kernel_size=1, stride=1, padding=1),\n",
    "            torch.nn.ReLU(),\n",
    "            torch.nn.MaxPool2d(kernel_size=4, stride=2, padding=1))\n",
    "        \n",
    "        self.layer6 = torch.nn.Sequential(\n",
    "            torch.nn.Conv2d(8, 4, kernel_size=1, stride=1, padding=1),\n",
    "            torch.nn.ReLU(),\n",
    "            torch.nn.MaxPool2d(kernel_size=4, stride=2, padding=1))\n",
    "\n",
    "        self.fc1 = torch.nn.Linear(2 * 2 * 4, 16, bias=True)\n",
    "        torch.nn.init.xavier_uniform(self.fc1.weight)\n",
    "        self.layer7 = torch.nn.Sequential(\n",
    "            self.fc1,\n",
    "            torch.nn.ReLU())\n",
    "        self.fc2 = torch.nn.Linear(16, 10, bias=True)\n",
    "        torch.nn.init.xavier_uniform_(self.fc2.weight) \n",
    "\n",
    "    def forward(self, x):\n",
    "        out = self.layer1(x)\n",
    "        out = self.layer2(out)\n",
    "        out = self.layer3(out)\n",
    "        out = self.layer4(out)\n",
    "        out = self.layer5(out)\n",
    "        out = self.layer6(out)\n",
    "        out = out.view(out.size(0), -1)   \n",
    "        out = self.fc1(out)\n",
    "        out = self.fc2(out)\n",
    "        return out"
   ]
  },
  {
   "cell_type": "code",
   "execution_count": 15,
   "metadata": {},
   "outputs": [
    {
     "name": "stderr",
     "output_type": "stream",
     "text": [
      "/Users/oliviadong/anaconda3/lib/python3.7/site-packages/ipykernel_launcher.py:33: UserWarning: nn.init.xavier_uniform is now deprecated in favor of nn.init.xavier_uniform_.\n"
     ]
    }
   ],
   "source": [
    "model = cnn()\n",
    "criterion = nn.CrossEntropyLoss()"
   ]
  },
  {
   "cell_type": "code",
   "execution_count": 17,
   "metadata": {},
   "outputs": [],
   "source": [
    "learning_rate = 0.0005\n",
    "num_epoches = 50\n",
    "minibatch_size = 32\n",
    "optimizer = torch.optim.SGD(model.parameters(), lr=learning_rate)"
   ]
  },
  {
   "cell_type": "code",
   "execution_count": null,
   "metadata": {},
   "outputs": [],
   "source": [
    "iter = 0\n",
    "seed = 5\n",
    "for epoch in range(num_epochs):\n",
    "    print ('Training .........\\n')\n",
    "    print('Epoch', epoch+1, ': ........ \\n')\n",
    "    \n",
    "    m = X_train.shape[0]\n",
    "    num_minibatches = int(m / minibatch_size)\n",
    "    seed = seed + 1\n",
    "    minibatches = random_mini_batches(X_train, y_train, minibatch_size, seed)\n",
    "    \n",
    "    for (epoch_x, epoch_y) in minibatches:\n",
    "        epoch_x = epoch_x.requires_grad_()\n",
    "        optimizer.zero_grad()\n",
    "        outputs = model(epoch_x)\n",
    "        loss = criterion(outputs, epoch_y)\n",
    "        loss.backward()\n",
    "        optimizer.step()\n",
    "\n",
    "        iter += 1\n",
    "\n",
    "    correct = 0\n",
    "    total = 0\n",
    "    for i in X_valid.shape[0]:\n",
    "        valid_x, valid_y = X_valid[i],y_valid[i]\n",
    "        valid_x = valid_x.requires_grad_()\n",
    "        outputs = model(valid_x)\n",
    "        _, predicted = torch.max(outputs.data, 1)\n",
    "        total += valid_y.size(0)\n",
    "        correct += (predicted == valid_y).sum()\n",
    "\n",
    "    accuracy = 100 * correct / total\n",
    "\n",
    "    print('Iteration: {}. Loss: {}. Accuracy: {}'.format(iter, loss.item(), accuracy))"
   ]
  }
 ],
 "metadata": {
  "kernelspec": {
   "display_name": "Python 3",
   "language": "python",
   "name": "python3"
  },
  "language_info": {
   "codemirror_mode": {
    "name": "ipython",
    "version": 3
   },
   "file_extension": ".py",
   "mimetype": "text/x-python",
   "name": "python",
   "nbconvert_exporter": "python",
   "pygments_lexer": "ipython3",
   "version": "3.7.3"
  }
 },
 "nbformat": 4,
 "nbformat_minor": 2
}
